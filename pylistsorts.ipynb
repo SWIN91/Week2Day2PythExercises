{
 "cells": [
  {
   "cell_type": "code",
   "execution_count": 19,
   "id": "fd5d179f",
   "metadata": {},
   "outputs": [
    {
     "name": "stdout",
     "output_type": "stream",
     "text": [
      "[1, 5, 8, 9]\n"
     ]
    }
   ],
   "source": [
    "# Exercise 1\n",
    "# Given a list as a parameter,write a function that returns a list of numbers that are less than ten\n",
    "# For example: Say your input parameter to the function is [1,11,14,5,8,9]...Your output should [1,5,8,9]\n",
    "\n",
    "def lessthanten(numlist):\n",
    "    numlist = [i for i in numlist if i < 10]\n",
    "    print(numlist)\n",
    "        \n",
    "l_1 = [1, 11, 14, 5, 8, 9]\n",
    "(lessthanten(l_1))\n",
    "\n"
   ]
  },
  {
   "cell_type": "code",
   "execution_count": 46,
   "id": "21dcf8fd",
   "metadata": {
    "scrolled": true
   },
   "outputs": [
    {
     "name": "stdout",
     "output_type": "stream",
     "text": [
      "None\n",
      "None\n",
      "None\n",
      "None\n"
     ]
    }
   ],
   "source": [
    "# Exercise 2\n",
    "# Write a function that takes in two lists and returns the two lists merged together and sorted\n",
    "# Hint: You can use the .sort() method\n",
    "\n",
    "def addnsort(list1, list2):\n",
    "    for x in list2:\n",
    "        list1.append(x)\n",
    "        print(list1.sort())\n",
    "    \n",
    "\n",
    "argh1 = ['I', 'really']\n",
    "argh2 = ['do', 'hope', 'this', 'works']\n",
    "addnsort(argh1, argh2)                                  #Why is this returning None?!? :'("
   ]
  },
  {
   "cell_type": "code",
   "execution_count": null,
   "id": "b80c951e",
   "metadata": {},
   "outputs": [],
   "source": []
  }
 ],
 "metadata": {
  "kernelspec": {
   "display_name": "Python 3",
   "language": "python",
   "name": "python3"
  },
  "language_info": {
   "codemirror_mode": {
    "name": "ipython",
    "version": 3
   },
   "file_extension": ".py",
   "mimetype": "text/x-python",
   "name": "python",
   "nbconvert_exporter": "python",
   "pygments_lexer": "ipython3",
   "version": "3.8.8"
  }
 },
 "nbformat": 4,
 "nbformat_minor": 5
}
